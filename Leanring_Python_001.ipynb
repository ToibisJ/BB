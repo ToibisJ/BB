{
  "nbformat": 4,
  "nbformat_minor": 0,
  "metadata": {
    "colab": {
      "provenance": [],
      "authorship_tag": "ABX9TyN+lcJZcbykQEwlO2QaQnOT",
      "include_colab_link": true
    },
    "kernelspec": {
      "name": "python3",
      "display_name": "Python 3"
    },
    "language_info": {
      "name": "python"
    }
  },
  "cells": [
    {
      "cell_type": "markdown",
      "metadata": {
        "id": "view-in-github",
        "colab_type": "text"
      },
      "source": [
        "<a href=\"https://colab.research.google.com/github/ToibisJ/BB/blob/main/Leanring_Python_001.ipynb\" target=\"_parent\"><img src=\"https://colab.research.google.com/assets/colab-badge.svg\" alt=\"Open In Colab\"/></a>"
      ]
    },
    {
      "cell_type": "code",
      "source": [
        "#  https://www.youtube.com/watch?v=wUSDVGivd-8\n",
        "\n",
        "name = input('Hi, pleas enter your name: ')\n",
        "age = int(input(f'Hi {name} pleas enter your age: '))\n",
        "if 20 <= age <= 30:\n",
        "  print(f'{name} You ar to young to play')\n",
        "else:\n",
        "  print(f'{name} You are to old to play')\n",
        "\n",
        "\n"
      ],
      "metadata": {
        "colab": {
          "base_uri": "https://localhost:8080/"
        },
        "id": "7Hw49HP-I5G_",
        "outputId": "c981ac0d-eec0-47d9-fd0b-e0b57957ecd9"
      },
      "execution_count": 28,
      "outputs": [
        {
          "output_type": "stream",
          "name": "stdout",
          "text": [
            "Hi, pleas enter your name: oiuoiu\n",
            "Hi oiuoiu pleas enter your age: 23\n",
            "oiuoiu You ar to young to play\n"
          ]
        }
      ]
    },
    {
      "cell_type": "code",
      "source": [],
      "metadata": {
        "id": "Ui31yEJxPlgj"
      },
      "execution_count": 28,
      "outputs": []
    },
    {
      "source": [
        "def צריכת_דלק():\n",
        "  \"\"\"\n",
        "  מחשבון זה מחשב את צריכת הדלק של רכב בליטרים לקילומטר.\n",
        "\n",
        "  הפונקציה מבקשת מהמשתמש להזין את מספר הקילומטרים שנסע\n",
        "  ואת כמות הדלק שצרך (בליטר). לאחר מכן, היא מחשבת\n",
        "  את צריכת הדלק ומדפיסה אותה למשתמש,\n",
        "  כולל צריכת הדלק ל-100 קילומטר וכמה קילומטר\n",
        "  הוא נסע על ליטר אחד.\n",
        "\n",
        "  Returns:\n",
        "    float: צריכת הדלק בליטרים לקילומטר.\n",
        "  \"\"\"\n",
        "\n",
        "  קילומטרים = float(input(\"הזן את מספר הקילומטרים שנסעת: \"))\n",
        "  ליטר = float(input(\"הזן את כמות הדלק שצרכת (בליטר): \"))\n",
        "\n",
        "  צריכת_דלק_לקילומטר = ליטר / קילומטרים\n",
        "  צריכת_דלק_ל100קילומטר = צריכת_דלק_לקילומטר * 100\n",
        "  קילומטר_לליטר = קילומטרים / ליטר  # חישוב קילומטר לליטר\n",
        "\n",
        "  print(f\"צריכת הדלק של הרכב שלך היא {צריכת_דלק_לקילומטר:.2f} ליטר לקילומטר.\")\n",
        "  print(f\"צריכת הדלק של הרכב שלך היא {צריכת_דלק_ל100קילומטר:.2f} ליטר ל-100 קילומטר.\")\n",
        "  print(f\"הרכב שלך נסע {קילומטר_לליטר:.2f} קילומטר על ליטר אחד.\")  # הדפסת קילומטר לליטר\n",
        "\n",
        "  return צריכת_דלק_לקילומטר\n",
        "\n",
        "# קריאה לפונקציה כדי להפעיל את המחשבון\n",
        "צריכת_דלק()"
      ],
      "cell_type": "code",
      "metadata": {
        "colab": {
          "base_uri": "https://localhost:8080/"
        },
        "id": "bFh-EQJoQ2dR",
        "outputId": "2c1da37f-9da7-479d-cbde-58a60e36332c"
      },
      "execution_count": 32,
      "outputs": [
        {
          "output_type": "stream",
          "name": "stdout",
          "text": [
            "הזן את מספר הקילומטרים שנסעת: 700\n",
            "הזן את כמות הדלק שצרכת (בליטר): 34\n",
            "צריכת הדלק של הרכב שלך היא 0.05 ליטר לקילומטר.\n",
            "צריכת הדלק של הרכב שלך היא 4.86 ליטר ל-100 קילומטר.\n",
            "הרכב שלך נסע 20.59 קילומטר על ליטר אחד.\n"
          ]
        },
        {
          "output_type": "execute_result",
          "data": {
            "text/plain": [
              "0.04857142857142857"
            ]
          },
          "metadata": {},
          "execution_count": 32
        }
      ]
    }
  ]
}